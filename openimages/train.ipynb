{
 "cells": [
  {
   "cell_type": "code",
   "execution_count": null,
   "metadata": {},
   "outputs": [],
   "source": [
    "%load_ext autoreload\n",
    "%autoreload 2\n",
    "import chainertools\n",
    "import os\n",
    "import chainer\n",
    "chainertools.init()\n",
    "import shufflenet_v2\n",
    "import settings"
   ]
  },
  {
   "cell_type": "code",
   "execution_count": null,
   "metadata": {},
   "outputs": [],
   "source": [
    "%%time\n",
    "data = chainertools.openimages.load_openimages_datasets(root=settings.openimages_directory)"
   ]
  },
  {
   "cell_type": "code",
   "execution_count": null,
   "metadata": {},
   "outputs": [],
   "source": [
    "net = shufflenet_v2.ShuffleNetV2(1.5, len(data.label_names))\n",
    "trainer = chainertools.train.trainer(net, data,\n",
    "                                     name=os.path.join(settings.log_directory, \"snv2-x1.5\"),\n",
    "                                     train_batch_size=128, \n",
    "                                     loss_fun=chainer.functions.sigmoid_cross_entropy,\n",
    "                                     accuracy_fun=chainertools.score.f1_score)\n",
    "trainer.extend(chainertools.train.UpDownLr(max_lr=3e-3))\n",
    "chainertools.train.resume_from_snapshot(trainer)\n",
    "trainer.run()"
   ]
  },
  {
   "cell_type": "code",
   "execution_count": null,
   "metadata": {},
   "outputs": [],
   "source": []
  }
 ],
 "metadata": {
  "kernelspec": {
   "display_name": "Python 3",
   "language": "python",
   "name": "python3"
  },
  "language_info": {
   "codemirror_mode": {
    "name": "ipython",
    "version": 3
   },
   "file_extension": ".py",
   "mimetype": "text/x-python",
   "name": "python",
   "nbconvert_exporter": "python",
   "pygments_lexer": "ipython3",
   "version": "3.6.7"
  }
 },
 "nbformat": 4,
 "nbformat_minor": 2
}
