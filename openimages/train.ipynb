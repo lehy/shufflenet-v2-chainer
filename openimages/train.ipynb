{
 "cells": [
  {
   "cell_type": "code",
   "execution_count": 1,
   "metadata": {},
   "outputs": [],
   "source": [
    "%load_ext autoreload\n",
    "%autoreload 2\n",
    "import chainertools\n",
    "import os\n",
    "import chainer\n",
    "chainertools.init()\n",
    "import shufflenet_v2\n",
    "import settings"
   ]
  },
  {
   "cell_type": "code",
   "execution_count": 2,
   "metadata": {},
   "outputs": [
    {
     "name": "stderr",
     "output_type": "stream",
     "text": [
      "INFO:chainertools.openimages:openimages: creating label encoder\n"
     ]
    },
    {
     "name": "stdout",
     "output_type": "stream",
     "text": [
      "[Memory]0.1s, 0.0min    : Loading openimages_dataset...\n",
      "[Memory]137.9s, 2.3min  : Loading openimages_dataset...\n",
      "CPU times: user 2min 10s, sys: 10.4 s, total: 2min 20s\n",
      "Wall time: 2min 20s\n"
     ]
    }
   ],
   "source": [
    "%%time\n",
    "data = chainertools.openimages.load_openimages_datasets(root=settings.openimages_directory)"
   ]
  },
  {
   "cell_type": "code",
   "execution_count": null,
   "metadata": {},
   "outputs": [
    {
     "name": "stderr",
     "output_type": "stream",
     "text": [
      "INFO:chainertools.train:saving model as: /home/paperspace/logs/snv2-x1.5-Seq-batch128\n",
      "INFO:chainertools.train:setting up trainer snapshot on finalization\n",
      "INFO:chainertools.train:epoch: 1743042 samples, 13617 iterations (batch size: 128)\n",
      "INFO:chainertools.train:initial linear scale up of lr from 0.0001 to 0.001 in 2 epochs (27235 iterations)\n",
      "INFO:chainertools.train:then lr has plateaus of 6 epochs (81705.1 iterations), reduced each time by 0.3\n"
     ]
    },
    {
     "name": "stdout",
     "output_type": "stream",
     "text": [
      "elapsed_time  epoch       iteration   main/loss   validation/main/loss  finetune    batch_size  alpha       beta1       beta2       eps         eta         weight_decay_rate  amsgrad     main/accuracy  validation/main/accuracy\n",
      "\u001b[J16.7217       0           20          0.600526    0.610232              0           128         1           0.9         0.999       1e-08       0.000100314  0                  0           0.0194115      0.0105673                 \n",
      "\u001b[J28.4978       0           40          0.426098    0.46228               0           128         1           0.9         0.999       1e-08       0.000100975  0                  0           0.134646       0.0090425                 \n",
      "\u001b[J42.418        0           60          0.361541    0.394941              0           128         1           0.9         0.999       1e-08       0.000101636  0                  0           0.156336       0.00156825                \n",
      "\u001b[J54.0982       0           80          0.342756    0.350143              0           128         1           0.9         0.999       1e-08       0.000102297  0                  0           0.149258       0.00168916                \n",
      "\u001b[J65.7726       0           100         0.337887    0.339601              0           128         1           0.9         0.999       1e-08       0.000102958  0                  0           0.151909       0.030682                  \n",
      "\u001b[J76.8997       0           120         0.336454    0.338173              0           128         1           0.9         0.999       1e-08       0.000103619  0                  0           0.128716       0.0806138                 \n"
     ]
    },
    {
     "name": "stderr",
     "output_type": "stream",
     "text": [
      "INFO:chainertools.train:reached maximum iterations for printing: 128\n"
     ]
    }
   ],
   "source": [
    "net = shufflenet_v2.ShuffleNetV2(1.5, len(data.label_names))\n",
    "trainer = chainertools.train.trainer(net, data,\n",
    "                                     name=os.path.join(settings.log_directory, \"snv2-x1.5\"),\n",
    "                                     train_batch_size=128,\n",
    "                                     optimizer=chainer.optimizers.Adam(alpha=1.),\n",
    "                                     loss_fun=chainer.functions.sigmoid_cross_entropy,\n",
    "                                     accuracy_fun=chainertools.score.f1_score)\n",
    "trainer.extend(chainertools.train.UpDownLr(max_lr=1e-3))\n",
    "#chainertools.train.resume_from_snapshot(trainer)\n",
    "trainer.run()"
   ]
  },
  {
   "cell_type": "code",
   "execution_count": null,
   "metadata": {},
   "outputs": [],
   "source": []
  }
 ],
 "metadata": {
  "kernelspec": {
   "display_name": "Python 3",
   "language": "python",
   "name": "python3"
  },
  "language_info": {
   "codemirror_mode": {
    "name": "ipython",
    "version": 3
   },
   "file_extension": ".py",
   "mimetype": "text/x-python",
   "name": "python",
   "nbconvert_exporter": "python",
   "pygments_lexer": "ipython3",
   "version": "3.6.7"
  }
 },
 "nbformat": 4,
 "nbformat_minor": 2
}
