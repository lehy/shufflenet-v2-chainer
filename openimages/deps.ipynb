{
 "cells": [
  {
   "cell_type": "code",
   "execution_count": 1,
   "metadata": {},
   "outputs": [],
   "source": [
    "%load_ext autoreload\n",
    "%autoreload 2"
   ]
  },
  {
   "cell_type": "code",
   "execution_count": 2,
   "metadata": {},
   "outputs": [
    {
     "name": "stdout",
     "output_type": "stream",
     "text": [
      "Requirement already up-to-date: pip in /home/paperspace/projects/shufflenet-v2-chainer/.venv/lib/python3.6/site-packages (18.1)\n",
      "Collecting setuptools\n",
      "\u001b[?25l  Downloading https://files.pythonhosted.org/packages/37/06/754589caf971b0d2d48f151c2586f62902d93dc908e2fd9b9b9f6aa3c9dd/setuptools-40.6.3-py2.py3-none-any.whl (573kB)\n",
      "\u001b[K    100% |████████████████████████████████| 573kB 20.8MB/s \n",
      "\u001b[?25hCollecting wheel\n",
      "  Downloading https://files.pythonhosted.org/packages/ff/47/1dfa4795e24fd6f93d5d58602dd716c3f101cfd5a77cd9acbe519b44a0a9/wheel-0.32.3-py2.py3-none-any.whl\n",
      "Installing collected packages: setuptools, wheel\n",
      "  Found existing installation: setuptools 39.0.1\n",
      "    Uninstalling setuptools-39.0.1:\n",
      "      Successfully uninstalled setuptools-39.0.1\n",
      "Successfully installed setuptools-40.6.3 wheel-0.32.3\n"
     ]
    }
   ],
   "source": [
    "# upgrade pip if needed\n",
    "!python3 -m pip install --upgrade pip setuptools wheel"
   ]
  },
  {
   "cell_type": "code",
   "execution_count": 7,
   "metadata": {},
   "outputs": [
    {
     "name": "stdout",
     "output_type": "stream",
     "text": [
      "Requirement already satisfied: cupy-cuda100 in /home/paperspace/projects/shufflenet-v2-chainer/.venv/lib/python3.6/site-packages (5.1.0)\n",
      "Collecting chainer\n",
      "\u001b[?25l  Downloading https://files.pythonhosted.org/packages/71/17/e7e3b6f0cd58256085fda9e34623d0de2f888d20dd080ea1c74e8e6c1748/chainer-5.1.0.tar.gz (513kB)\n",
      "\u001b[K    100% |████████████████████████████████| 522kB 24.3MB/s \n",
      "\u001b[?25hRequirement already satisfied: numpy>=1.9.0 in /home/paperspace/projects/shufflenet-v2-chainer/.venv/lib/python3.6/site-packages (from cupy-cuda100) (1.15.4)\n",
      "Requirement already satisfied: fastrlock>=0.3 in /home/paperspace/projects/shufflenet-v2-chainer/.venv/lib/python3.6/site-packages (from cupy-cuda100) (0.4)\n",
      "Requirement already satisfied: six>=1.9.0 in /home/paperspace/projects/shufflenet-v2-chainer/.venv/lib/python3.6/site-packages (from cupy-cuda100) (1.12.0)\n",
      "Collecting filelock (from chainer)\n",
      "  Downloading https://files.pythonhosted.org/packages/d7/ca/3c74396a9ed8a4cfab5459800edeef9a1269591cb21f5a49bd71a49c5fa2/filelock-3.0.10-py3-none-any.whl\n",
      "Collecting protobuf>=3.0.0 (from chainer)\n",
      "  Using cached https://files.pythonhosted.org/packages/c2/f9/28787754923612ca9bfdffc588daa05580ed70698add063a5629d1a4209d/protobuf-3.6.1-cp36-cp36m-manylinux1_x86_64.whl\n",
      "Requirement already satisfied: setuptools in /home/paperspace/projects/shufflenet-v2-chainer/.venv/lib/python3.6/site-packages (from protobuf>=3.0.0->chainer) (40.6.3)\n",
      "Building wheels for collected packages: chainer\n",
      "  Running setup.py bdist_wheel for chainer ... \u001b[?25ldone\n",
      "\u001b[?25h  Stored in directory: /home/paperspace/.cache/pip/wheels/91/82/5d/4ef2ad99aa90614010eced537d2074b31c5c15f75cb278d272\n",
      "Successfully built chainer\n",
      "Installing collected packages: filelock, protobuf, chainer\n",
      "Successfully installed chainer-5.1.0 filelock-3.0.10 protobuf-3.6.1\n"
     ]
    }
   ],
   "source": [
    "# install cupy and chainer\n",
    "#!sudo apt update\n",
    "#!curl https://colab.chainer.org/install | sudo sh -\n",
    "!pip install cupy-cuda100 chainer"
   ]
  },
  {
   "cell_type": "code",
   "execution_count": 8,
   "metadata": {},
   "outputs": [
    {
     "name": "stdout",
     "output_type": "stream",
     "text": [
      "Cloning into 'chainer-tools'...\n",
      "remote: Enumerating objects: 37, done.\u001b[K\n",
      "remote: Counting objects: 100% (37/37), done.\u001b[K\n",
      "remote: Compressing objects: 100% (26/26), done.\u001b[K\n",
      "remote: Total 37 (delta 11), reused 36 (delta 10), pack-reused 0\u001b[K\n",
      "Unpacking objects: 100% (37/37), done.\n",
      "Collecting albumentations (from -r chainer-tools/requirements.txt (line 1))\n",
      "\u001b[?25l  Downloading https://files.pythonhosted.org/packages/ec/e0/32e66e66e1337a812eb8f5aefd6fd83a18be70fe803c59e25b81aff39f31/albumentations-0.1.8.tar.gz (48kB)\n",
      "\u001b[K    100% |████████████████████████████████| 51kB 11.4MB/s \n",
      "\u001b[?25hRequirement already satisfied: chainer in /home/paperspace/projects/shufflenet-v2-chainer/.venv/lib/python3.6/site-packages (from -r chainer-tools/requirements.txt (line 2)) (5.1.0)\n",
      "Collecting chainercv (from -r chainer-tools/requirements.txt (line 3))\n",
      "\u001b[?25l  Downloading https://files.pythonhosted.org/packages/bb/1c/cee12630628d0acd4d6c5d7a3ba196a3aa079a863baa3dc74eb70d8494c5/chainercv-0.11.0.tar.gz (223kB)\n",
      "\u001b[K    100% |████████████████████████████████| 225kB 16.4MB/s \n",
      "\u001b[?25hCollecting joblib (from -r chainer-tools/requirements.txt (line 4))\n",
      "\u001b[?25l  Downloading https://files.pythonhosted.org/packages/0d/1b/995167f6c66848d4eb7eabc386aebe07a1571b397629b2eac3b7bebdc343/joblib-0.13.0-py2.py3-none-any.whl (276kB)\n",
      "\u001b[K    100% |████████████████████████████████| 276kB 7.0MB/s \n",
      "\u001b[?25hCollecting matplotlib (from -r chainer-tools/requirements.txt (line 5))\n",
      "\u001b[?25l  Downloading https://files.pythonhosted.org/packages/71/07/16d781df15be30df4acfd536c479268f1208b2dfbc91e9ca5d92c9caf673/matplotlib-3.0.2-cp36-cp36m-manylinux1_x86_64.whl (12.9MB)\n",
      "\u001b[K    100% |████████████████████████████████| 12.9MB 3.5MB/s \n",
      "\u001b[?25hCollecting pandas (from -r chainer-tools/requirements.txt (line 6))\n",
      "\u001b[?25l  Downloading https://files.pythonhosted.org/packages/e1/d8/feeb346d41f181e83fba45224ab14a8d8af019b48af742e047f3845d8cff/pandas-0.23.4-cp36-cp36m-manylinux1_x86_64.whl (8.9MB)\n",
      "\u001b[K    100% |████████████████████████████████| 8.9MB 4.8MB/s \n",
      "\u001b[?25hCollecting requests (from -r chainer-tools/requirements.txt (line 7))\n",
      "\u001b[?25l  Downloading https://files.pythonhosted.org/packages/7d/e3/20f3d364d6c8e5d2353c72a67778eb189176f08e873c9900e10c0287b84b/requests-2.21.0-py2.py3-none-any.whl (57kB)\n",
      "\u001b[K    100% |████████████████████████████████| 61kB 30.6MB/s \n",
      "\u001b[?25hCollecting scipy (from -r chainer-tools/requirements.txt (line 8))\n",
      "\u001b[?25l  Downloading https://files.pythonhosted.org/packages/67/e6/6d4edaceee6a110ecf6f318482f5229792f143e468b34a631f5a0899f56d/scipy-1.2.0-cp36-cp36m-manylinux1_x86_64.whl (26.6MB)\n",
      "\u001b[K    100% |████████████████████████████████| 26.6MB 1.6MB/s \n",
      "\u001b[?25hRequirement already satisfied: six in /home/paperspace/projects/shufflenet-v2-chainer/.venv/lib/python3.6/site-packages (from -r chainer-tools/requirements.txt (line 9)) (1.12.0)\n",
      "Collecting sklearn (from -r chainer-tools/requirements.txt (line 10))\n",
      "  Downloading https://files.pythonhosted.org/packages/1e/7a/dbb3be0ce9bd5c8b7e3d87328e79063f8b263b2b1bfa4774cb1147bfcd3f/sklearn-0.0.tar.gz\n",
      "Collecting tqdm (from -r chainer-tools/requirements.txt (line 11))\n",
      "\u001b[?25l  Downloading https://files.pythonhosted.org/packages/91/55/8cb23a97301b177e9c8e3226dba45bb454411de2cbd25746763267f226c2/tqdm-4.28.1-py2.py3-none-any.whl (45kB)\n",
      "\u001b[K    100% |████████████████████████████████| 51kB 20.8MB/s \n",
      "\u001b[?25hRequirement already satisfied: numpy>=1.11.1 in /home/paperspace/projects/shufflenet-v2-chainer/.venv/lib/python3.6/site-packages (from albumentations->-r chainer-tools/requirements.txt (line 1)) (1.15.4)\n",
      "Collecting opencv-python (from albumentations->-r chainer-tools/requirements.txt (line 1))\n",
      "\u001b[?25l  Downloading https://files.pythonhosted.org/packages/85/16/446110984e7a814a9e12862bd6da8d09501d274867b55223e48ee10cd752/opencv_python-3.4.4.19-cp36-cp36m-manylinux1_x86_64.whl (25.4MB)\n",
      "\u001b[K    100% |████████████████████████████████| 25.4MB 1.7MB/s \n",
      "\u001b[?25hCollecting imgaug>=0.2.5 (from albumentations->-r chainer-tools/requirements.txt (line 1))\n",
      "\u001b[?25l  Downloading https://files.pythonhosted.org/packages/af/fc/c56a7da8c23122b7c5325b941850013880a7a93c21dc95e2b1ecd4750108/imgaug-0.2.7-py3-none-any.whl (644kB)\n",
      "\u001b[K    100% |████████████████████████████████| 645kB 29.3MB/s \n",
      "\u001b[?25hRequirement already satisfied: filelock in /home/paperspace/projects/shufflenet-v2-chainer/.venv/lib/python3.6/site-packages (from chainer->-r chainer-tools/requirements.txt (line 2)) (3.0.10)\n",
      "Requirement already satisfied: protobuf>=3.0.0 in /home/paperspace/projects/shufflenet-v2-chainer/.venv/lib/python3.6/site-packages (from chainer->-r chainer-tools/requirements.txt (line 2)) (3.6.1)\n",
      "Collecting Pillow (from chainercv->-r chainer-tools/requirements.txt (line 3))\n",
      "\u001b[?25l  Downloading https://files.pythonhosted.org/packages/62/94/5430ebaa83f91cc7a9f687ff5238e26164a779cca2ef9903232268b0a318/Pillow-5.3.0-cp36-cp36m-manylinux1_x86_64.whl (2.0MB)\n",
      "\u001b[K    100% |████████████████████████████████| 2.0MB 15.5MB/s \n",
      "\u001b[?25hRequirement already satisfied: python-dateutil>=2.1 in /home/paperspace/projects/shufflenet-v2-chainer/.venv/lib/python3.6/site-packages (from matplotlib->-r chainer-tools/requirements.txt (line 5)) (2.7.5)\n",
      "Collecting cycler>=0.10 (from matplotlib->-r chainer-tools/requirements.txt (line 5))\n",
      "  Downloading https://files.pythonhosted.org/packages/f7/d2/e07d3ebb2bd7af696440ce7e754c59dd546ffe1bbe732c8ab68b9c834e61/cycler-0.10.0-py2.py3-none-any.whl\n",
      "Collecting pyparsing!=2.0.4,!=2.1.2,!=2.1.6,>=2.0.1 (from matplotlib->-r chainer-tools/requirements.txt (line 5))\n",
      "\u001b[?25l  Downloading https://files.pythonhosted.org/packages/71/e8/6777f6624681c8b9701a8a0a5654f3eb56919a01a78e12bf3c73f5a3c714/pyparsing-2.3.0-py2.py3-none-any.whl (59kB)\n",
      "\u001b[K    100% |████████████████████████████████| 61kB 24.1MB/s \n",
      "\u001b[?25hCollecting kiwisolver>=1.0.1 (from matplotlib->-r chainer-tools/requirements.txt (line 5))\n",
      "\u001b[?25l  Downloading https://files.pythonhosted.org/packages/69/a7/88719d132b18300b4369fbffa741841cfd36d1e637e1990f27929945b538/kiwisolver-1.0.1-cp36-cp36m-manylinux1_x86_64.whl (949kB)\n",
      "\u001b[K    100% |████████████████████████████████| 952kB 20.2MB/s \n",
      "\u001b[?25hCollecting pytz>=2011k (from pandas->-r chainer-tools/requirements.txt (line 6))\n",
      "\u001b[?25l  Downloading https://files.pythonhosted.org/packages/f8/0e/2365ddc010afb3d79147f1dd544e5ee24bf4ece58ab99b16fbb465ce6dc0/pytz-2018.7-py2.py3-none-any.whl (506kB)\n",
      "\u001b[K    100% |████████████████████████████████| 512kB 18.9MB/s \n",
      "\u001b[?25hCollecting idna<2.9,>=2.5 (from requests->-r chainer-tools/requirements.txt (line 7))\n",
      "\u001b[?25l  Downloading https://files.pythonhosted.org/packages/14/2c/cd551d81dbe15200be1cf41cd03869a46fe7226e7450af7a6545bfc474c9/idna-2.8-py2.py3-none-any.whl (58kB)\n",
      "\u001b[K    100% |████████████████████████████████| 61kB 24.5MB/s \n",
      "\u001b[?25hCollecting urllib3<1.25,>=1.21.1 (from requests->-r chainer-tools/requirements.txt (line 7))\n",
      "\u001b[?25l  Downloading https://files.pythonhosted.org/packages/62/00/ee1d7de624db8ba7090d1226aebefab96a2c71cd5cfa7629d6ad3f61b79e/urllib3-1.24.1-py2.py3-none-any.whl (118kB)\n",
      "\u001b[K    100% |████████████████████████████████| 122kB 32.0MB/s \n",
      "\u001b[?25hCollecting certifi>=2017.4.17 (from requests->-r chainer-tools/requirements.txt (line 7))\n",
      "\u001b[?25l  Downloading https://files.pythonhosted.org/packages/9f/e0/accfc1b56b57e9750eba272e24c4dddeac86852c2bebd1236674d7887e8a/certifi-2018.11.29-py2.py3-none-any.whl (154kB)\n",
      "\u001b[K    100% |████████████████████████████████| 163kB 11.3MB/s \n",
      "\u001b[?25hCollecting chardet<3.1.0,>=3.0.2 (from requests->-r chainer-tools/requirements.txt (line 7))\n",
      "\u001b[?25l  Downloading https://files.pythonhosted.org/packages/bc/a9/01ffebfb562e4274b6487b4bb1ddec7ca55ec7510b22e4c51f14098443b8/chardet-3.0.4-py2.py3-none-any.whl (133kB)\n",
      "\u001b[K    100% |████████████████████████████████| 143kB 11.1MB/s \n",
      "\u001b[?25hCollecting scikit-learn (from sklearn->-r chainer-tools/requirements.txt (line 10))\n",
      "\u001b[?25l  Downloading https://files.pythonhosted.org/packages/0d/3a/b92670f5c368c20329ecc4c255993fae7934564d485c3ed7ea7b8da7f741/scikit_learn-0.20.2-cp36-cp36m-manylinux1_x86_64.whl (5.4MB)\n",
      "\u001b[K    100% |████████████████████████████████| 5.4MB 11.0MB/s \n",
      "\u001b[?25hCollecting imageio (from imgaug>=0.2.5->albumentations->-r chainer-tools/requirements.txt (line 1))\n",
      "\u001b[?25l  Downloading https://files.pythonhosted.org/packages/28/b4/cbb592964dfd71a9de6a5b08f882fd334fb99ae09ddc82081dbb2f718c81/imageio-2.4.1.tar.gz (3.3MB)\n",
      "\u001b[K    100% |████████████████████████████████| 3.3MB 12.6MB/s \n",
      "\u001b[?25hCollecting Shapely (from imgaug>=0.2.5->albumentations->-r chainer-tools/requirements.txt (line 1))\n",
      "\u001b[?25l  Downloading https://files.pythonhosted.org/packages/38/b6/b53f19062afd49bb5abd049aeed36f13bf8d57ef8f3fa07a5203531a0252/Shapely-1.6.4.post2-cp36-cp36m-manylinux1_x86_64.whl (1.5MB)\n",
      "\u001b[K    100% |████████████████████████████████| 1.5MB 19.5MB/s \n",
      "\u001b[?25hCollecting scikit-image>=0.11.0 (from imgaug>=0.2.5->albumentations->-r chainer-tools/requirements.txt (line 1))\n",
      "\u001b[?25l  Downloading https://files.pythonhosted.org/packages/9c/90/553120309c53bdfca25c9c50769ae40a538a90c24db8c082468aec898d00/scikit_image-0.14.1-cp36-cp36m-manylinux1_x86_64.whl (25.3MB)\n",
      "\u001b[K    100% |████████████████████████████████| 25.3MB 1.7MB/s \n",
      "\u001b[?25hRequirement already satisfied: setuptools in /home/paperspace/projects/shufflenet-v2-chainer/.venv/lib/python3.6/site-packages (from protobuf>=3.0.0->chainer->-r chainer-tools/requirements.txt (line 2)) (40.6.3)\n",
      "Collecting dask[array]>=0.9.0 (from scikit-image>=0.11.0->imgaug>=0.2.5->albumentations->-r chainer-tools/requirements.txt (line 1))\n",
      "\u001b[?25l  Downloading https://files.pythonhosted.org/packages/b4/e5/6407c2349622699eab0881e6bc6e978b8da67872a105e5e20b72ff190c65/dask-1.0.0-py2.py3-none-any.whl (685kB)\n",
      "\u001b[K    100% |████████████████████████████████| 686kB 29.4MB/s \n",
      "\u001b[?25hCollecting networkx>=1.8 (from scikit-image>=0.11.0->imgaug>=0.2.5->albumentations->-r chainer-tools/requirements.txt (line 1))\n",
      "\u001b[?25l  Downloading https://files.pythonhosted.org/packages/f3/f4/7e20ef40b118478191cec0b58c3192f822cace858c19505c7670961b76b2/networkx-2.2.zip (1.7MB)\n",
      "\u001b[K    100% |████████████████████████████████| 1.7MB 21.9MB/s \n",
      "\u001b[?25hCollecting PyWavelets>=0.4.0 (from scikit-image>=0.11.0->imgaug>=0.2.5->albumentations->-r chainer-tools/requirements.txt (line 1))\n",
      "\u001b[?25l  Downloading https://files.pythonhosted.org/packages/fe/68/74a8527b3a727aa69736baaf5a273d83947fa6c91ef4f2e1efddda00d8b6/PyWavelets-1.0.1-cp36-cp36m-manylinux1_x86_64.whl (4.4MB)\n",
      "\u001b[K    100% |████████████████████████████████| 4.4MB 9.8MB/s \n",
      "\u001b[?25hCollecting cloudpickle>=0.2.1 (from scikit-image>=0.11.0->imgaug>=0.2.5->albumentations->-r chainer-tools/requirements.txt (line 1))\n",
      "  Downloading https://files.pythonhosted.org/packages/fc/87/7b7ef3038b4783911e3fdecb5c566e3a817ce3e890e164fc174c088edb1e/cloudpickle-0.6.1-py2.py3-none-any.whl\n",
      "Collecting toolz>=0.7.3; extra == \"array\" (from dask[array]>=0.9.0->scikit-image>=0.11.0->imgaug>=0.2.5->albumentations->-r chainer-tools/requirements.txt (line 1))\n",
      "\u001b[?25l  Downloading https://files.pythonhosted.org/packages/14/d0/a73c15bbeda3d2e7b381a36afb0d9cd770a9f4adc5d1532691013ba881db/toolz-0.9.0.tar.gz (45kB)\n",
      "\u001b[K    100% |████████████████████████████████| 51kB 19.6MB/s \n",
      "\u001b[?25hRequirement already satisfied: decorator>=4.3.0 in /home/paperspace/projects/shufflenet-v2-chainer/.venv/lib/python3.6/site-packages (from networkx>=1.8->scikit-image>=0.11.0->imgaug>=0.2.5->albumentations->-r chainer-tools/requirements.txt (line 1)) (4.3.0)\n",
      "Building wheels for collected packages: albumentations, chainercv, sklearn, imageio, networkx, toolz\n",
      "  Running setup.py bdist_wheel for albumentations ... \u001b[?25ldone\n",
      "\u001b[?25h  Stored in directory: /home/paperspace/.cache/pip/wheels/de/25/5e/954a66b54a044a0f9422db1d8baddf023594eeb4ef043d5187\n",
      "  Running setup.py bdist_wheel for chainercv ... \u001b[?25ldone\n",
      "\u001b[?25h  Stored in directory: /home/paperspace/.cache/pip/wheels/95/24/5a/1611db416857b5e092962bc22a70722315881e03970c7fa966\n",
      "  Running setup.py bdist_wheel for sklearn ... \u001b[?25ldone\n",
      "\u001b[?25h  Stored in directory: /home/paperspace/.cache/pip/wheels/76/03/bb/589d421d27431bcd2c6da284d5f2286c8e3b2ea3cf1594c074\n",
      "  Running setup.py bdist_wheel for imageio ... \u001b[?25ldone\n",
      "\u001b[?25h  Stored in directory: /home/paperspace/.cache/pip/wheels/e0/43/31/605de9372ceaf657f152d3d5e82f42cf265d81db8bbe63cde1\n",
      "  Running setup.py bdist_wheel for networkx ... \u001b[?25ldone\n",
      "\u001b[?25h  Stored in directory: /home/paperspace/.cache/pip/wheels/68/f8/29/b53346a112a07d30a5a84d53f19aeadaa1a474897c0423af91\n",
      "  Running setup.py bdist_wheel for toolz ... \u001b[?25ldone\n",
      "\u001b[?25h  Stored in directory: /home/paperspace/.cache/pip/wheels/f4/0c/f6/ce6b2d1aa459ee97cc3c0f82236302bd62d89c86c700219463\n",
      "Successfully built albumentations chainercv sklearn imageio networkx toolz\n",
      "Installing collected packages: scipy, opencv-python, Pillow, imageio, cycler, pyparsing, kiwisolver, matplotlib, Shapely, toolz, dask, networkx, PyWavelets, cloudpickle, scikit-image, imgaug, albumentations, chainercv, joblib, pytz, pandas, idna, urllib3, certifi, chardet, requests, scikit-learn, sklearn, tqdm\n",
      "Successfully installed Pillow-5.3.0 PyWavelets-1.0.1 Shapely-1.6.4.post2 albumentations-0.1.8 certifi-2018.11.29 chainercv-0.11.0 chardet-3.0.4 cloudpickle-0.6.1 cycler-0.10.0 dask-1.0.0 idna-2.8 imageio-2.4.1 imgaug-0.2.7 joblib-0.13.0 kiwisolver-1.0.1 matplotlib-3.0.2 networkx-2.2 opencv-python-3.4.4.19 pandas-0.23.4 pyparsing-2.3.0 pytz-2018.7 requests-2.21.0 scikit-image-0.14.1 scikit-learn-0.20.2 scipy-1.2.0 sklearn-0.0 toolz-0.9.0 tqdm-4.28.1 urllib3-1.24.1\n"
     ]
    }
   ],
   "source": [
    "# get the training tools\n",
    "!rm -rf chainer-tools chainertools\n",
    "!git clone https://github.com/lehy/chainertools.git chainer-tools\n",
    "!ln -s chainer-tools/chainertools .\n",
    "!python3 -m pip install -r chainer-tools/requirements.txt"
   ]
  },
  {
   "cell_type": "code",
   "execution_count": 9,
   "metadata": {},
   "outputs": [],
   "source": [
    "# test import\n",
    "import chainertools\n",
    "chainertools.init()"
   ]
  },
  {
   "cell_type": "code",
   "execution_count": 10,
   "metadata": {},
   "outputs": [],
   "source": [
    "# make shufflenet_v2 accessible\n",
    "!ln -s ../shufflenet_v2.py ."
   ]
  },
  {
   "cell_type": "code",
   "execution_count": 11,
   "metadata": {},
   "outputs": [],
   "source": [
    "# test import\n",
    "import shufflenet_v2"
   ]
  },
  {
   "cell_type": "code",
   "execution_count": null,
   "metadata": {},
   "outputs": [],
   "source": []
  }
 ],
 "metadata": {
  "kernelspec": {
   "display_name": "Python 3",
   "language": "python",
   "name": "python3"
  },
  "language_info": {
   "codemirror_mode": {
    "name": "ipython",
    "version": 3
   },
   "file_extension": ".py",
   "mimetype": "text/x-python",
   "name": "python",
   "nbconvert_exporter": "python",
   "pygments_lexer": "ipython3",
   "version": "3.6.7"
  }
 },
 "nbformat": 4,
 "nbformat_minor": 2
}
